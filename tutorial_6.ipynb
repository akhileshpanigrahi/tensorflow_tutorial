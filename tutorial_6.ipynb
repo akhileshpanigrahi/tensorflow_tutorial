{
  "nbformat": 4,
  "nbformat_minor": 0,
  "metadata": {
    "colab": {
      "provenance": [],
      "gpuType": "T4",
      "mount_file_id": "11kPd-h51vw9EAt_VV_-5r-2OJDT_efa1",
      "authorship_tag": "ABX9TyMeLED+Rmpukgsnjb4Ikrr1",
      "include_colab_link": true
    },
    "kernelspec": {
      "name": "python3",
      "display_name": "Python 3"
    },
    "language_info": {
      "name": "python"
    },
    "accelerator": "GPU"
  },
  "cells": [
    {
      "cell_type": "markdown",
      "metadata": {
        "id": "view-in-github",
        "colab_type": "text"
      },
      "source": [
        "<a href=\"https://colab.research.google.com/github/akhileshpanigrahi/tensorflow_tutorial/blob/main/tutorial_6.ipynb\" target=\"_parent\"><img src=\"https://colab.research.google.com/assets/colab-badge.svg\" alt=\"Open In Colab\"/></a>"
      ]
    },
    {
      "cell_type": "code",
      "execution_count": 1,
      "metadata": {
        "id": "bhrm74W4pvcf"
      },
      "outputs": [],
      "source": [
        "import tensorflow as tf\n",
        "import tensorflow.keras as keras\n",
        "import tensorflow.keras.layers as layers\n",
        "import tensorflow.keras.losses as losses\n",
        "import tensorflow.keras.models as models\n",
        "import tensorflow.keras.optimizers as optimizers\n",
        "from tensorflow.keras.datasets import mnist"
      ]
    },
    {
      "cell_type": "code",
      "source": [
        "(x_train, y_train), (x_test, y_test) = mnist.load_data()"
      ],
      "metadata": {
        "colab": {
          "base_uri": "https://localhost:8080/"
        },
        "id": "uFt9dPQeuTEV",
        "outputId": "eb698458-7624-4afa-c67c-2bc6a8573981"
      },
      "execution_count": 2,
      "outputs": [
        {
          "output_type": "stream",
          "name": "stdout",
          "text": [
            "Downloading data from https://storage.googleapis.com/tensorflow/tf-keras-datasets/mnist.npz\n",
            "11490434/11490434 [==============================] - 1s 0us/step\n"
          ]
        }
      ]
    },
    {
      "cell_type": "code",
      "source": [
        "x_train = x_train.astype('float32') / 255\n",
        "x_test = x_test.astype('float32') / 255"
      ],
      "metadata": {
        "id": "eOFhsygWutF7"
      },
      "execution_count": 3,
      "outputs": []
    },
    {
      "cell_type": "code",
      "source": [
        "#create RNN network\n",
        "model = keras.Sequential(\n",
        "    [\n",
        "        keras.Input(shape=(None, 28)),\n",
        "        layers.SimpleRNN(128, return_sequences=True, activation='relu'),\n",
        "        # layers.SimpleRNN(128, return_sequences=True, activation='relu'),\n",
        "        layers.SimpleRNN(128),\n",
        "        layers.Dense(10)\n",
        "    ]\n",
        ")\n",
        "\n",
        "model.compile(\n",
        "    loss=keras.losses.SparseCategoricalCrossentropy(from_logits=True),\n",
        "    optimizer=keras.optimizers.Adam(1e-3),\n",
        "    metrics=['accuracy']\n",
        ")"
      ],
      "metadata": {
        "id": "shSDZVZvu4FZ"
      },
      "execution_count": 4,
      "outputs": []
    },
    {
      "cell_type": "code",
      "source": [
        "model.fit(x_train, y_train, batch_size=64, epochs=10, verbose=2)\n",
        "model.evaluate(x_test, y_test, batch_size=64, verbose=2)"
      ],
      "metadata": {
        "colab": {
          "base_uri": "https://localhost:8080/"
        },
        "id": "7O3IFWOiwsKC",
        "outputId": "8f8e84b0-f7cb-40ce-fa72-7e2a2057fc8d"
      },
      "execution_count": 5,
      "outputs": [
        {
          "output_type": "stream",
          "name": "stdout",
          "text": [
            "Epoch 1/10\n",
            "938/938 - 43s - loss: 0.2788 - accuracy: 0.9164 - 43s/epoch - 46ms/step\n",
            "Epoch 2/10\n",
            "938/938 - 40s - loss: 0.1261 - accuracy: 0.9638 - 40s/epoch - 42ms/step\n",
            "Epoch 3/10\n",
            "938/938 - 40s - loss: 0.0999 - accuracy: 0.9716 - 40s/epoch - 42ms/step\n",
            "Epoch 4/10\n",
            "938/938 - 39s - loss: 0.0934 - accuracy: 0.9736 - 39s/epoch - 42ms/step\n",
            "Epoch 5/10\n",
            "938/938 - 40s - loss: 0.0897 - accuracy: 0.9741 - 40s/epoch - 42ms/step\n",
            "Epoch 6/10\n",
            "938/938 - 39s - loss: 0.0807 - accuracy: 0.9768 - 39s/epoch - 41ms/step\n",
            "Epoch 7/10\n",
            "938/938 - 41s - loss: 0.0789 - accuracy: 0.9783 - 41s/epoch - 44ms/step\n",
            "Epoch 8/10\n",
            "938/938 - 40s - loss: 0.0688 - accuracy: 0.9808 - 40s/epoch - 43ms/step\n",
            "Epoch 9/10\n",
            "938/938 - 41s - loss: 0.0675 - accuracy: 0.9808 - 41s/epoch - 43ms/step\n",
            "Epoch 10/10\n",
            "938/938 - 41s - loss: 0.0645 - accuracy: 0.9817 - 41s/epoch - 44ms/step\n",
            "157/157 - 1s - loss: 0.0811 - accuracy: 0.9784 - 1s/epoch - 8ms/step\n"
          ]
        },
        {
          "output_type": "execute_result",
          "data": {
            "text/plain": [
              "[0.08107144385576248, 0.9783999919891357]"
            ]
          },
          "metadata": {},
          "execution_count": 5
        }
      ]
    },
    {
      "cell_type": "code",
      "source": [
        "#create GRU network\n",
        "model = keras.Sequential(\n",
        "    [\n",
        "        keras.Input(shape=(None, 28)),\n",
        "        layers.GRU(128, return_sequences=True, activation='relu'),\n",
        "        # layers.SimpleRNN(128, return_sequences=True, activation='relu'),\n",
        "        layers.GRU(128),\n",
        "        layers.Dense(10)\n",
        "    ]\n",
        ")\n",
        "\n",
        "model.compile(\n",
        "    loss=keras.losses.SparseCategoricalCrossentropy(from_logits=True),\n",
        "    optimizer=keras.optimizers.Adam(1e-3),\n",
        "    metrics=['accuracy']\n",
        ")"
      ],
      "metadata": {
        "colab": {
          "base_uri": "https://localhost:8080/"
        },
        "id": "UvpZ_Rz0nkz7",
        "outputId": "6145e9fb-5364-4437-e35a-2886bac62927"
      },
      "execution_count": 6,
      "outputs": [
        {
          "output_type": "stream",
          "name": "stderr",
          "text": [
            "WARNING:tensorflow:Layer gru will not use cuDNN kernels since it doesn't meet the criteria. It will use a generic GPU kernel as fallback when running on GPU.\n"
          ]
        }
      ]
    },
    {
      "cell_type": "code",
      "source": [
        "model.fit(x_train, y_train, batch_size=64, epochs=10, verbose=2)\n",
        "model.evaluate(x_test, y_test, batch_size=64, verbose=2)"
      ],
      "metadata": {
        "colab": {
          "base_uri": "https://localhost:8080/"
        },
        "id": "c9jyiBJgoEjS",
        "outputId": "3a59d88b-7bad-4977-f5fb-db48736715d4"
      },
      "execution_count": 7,
      "outputs": [
        {
          "output_type": "stream",
          "name": "stdout",
          "text": [
            "Epoch 1/10\n",
            "938/938 - 46s - loss: 0.3208 - accuracy: 0.8929 - 46s/epoch - 49ms/step\n",
            "Epoch 2/10\n",
            "938/938 - 40s - loss: 0.0835 - accuracy: 0.9747 - 40s/epoch - 43ms/step\n",
            "Epoch 3/10\n",
            "938/938 - 42s - loss: 0.0590 - accuracy: 0.9820 - 42s/epoch - 45ms/step\n",
            "Epoch 4/10\n",
            "938/938 - 41s - loss: 0.0448 - accuracy: 0.9865 - 41s/epoch - 43ms/step\n",
            "Epoch 5/10\n",
            "938/938 - 42s - loss: 0.0369 - accuracy: 0.9886 - 42s/epoch - 45ms/step\n",
            "Epoch 6/10\n",
            "938/938 - 41s - loss: 0.0309 - accuracy: 0.9904 - 41s/epoch - 44ms/step\n",
            "Epoch 7/10\n",
            "938/938 - 41s - loss: 0.0266 - accuracy: 0.9918 - 41s/epoch - 43ms/step\n",
            "Epoch 8/10\n",
            "938/938 - 41s - loss: 0.0231 - accuracy: 0.9929 - 41s/epoch - 43ms/step\n",
            "Epoch 9/10\n",
            "938/938 - 43s - loss: 0.0202 - accuracy: 0.9936 - 43s/epoch - 46ms/step\n",
            "Epoch 10/10\n",
            "938/938 - 43s - loss: 0.0170 - accuracy: 0.9948 - 43s/epoch - 45ms/step\n",
            "157/157 - 2s - loss: 0.0329 - accuracy: 0.9898 - 2s/epoch - 10ms/step\n"
          ]
        },
        {
          "output_type": "execute_result",
          "data": {
            "text/plain": [
              "[0.0328582227230072, 0.989799976348877]"
            ]
          },
          "metadata": {},
          "execution_count": 7
        }
      ]
    },
    {
      "cell_type": "code",
      "source": [
        "#create LSTM model\n",
        "#create GRU network\n",
        "model = keras.Sequential(\n",
        "    [\n",
        "        keras.Input(shape=(None, 28)),\n",
        "        layers.LSTM(128, return_sequences=True, activation='relu'),\n",
        "        # layers.SimpleRNN(128, return_sequences=True, activation='relu'),\n",
        "        layers.LSTM(128),\n",
        "        layers.Dense(10)\n",
        "    ]\n",
        ")\n",
        "\n",
        "model.compile(\n",
        "    loss=keras.losses.SparseCategoricalCrossentropy(from_logits=True),\n",
        "    optimizer=keras.optimizers.Adam(1e-3),\n",
        "    metrics=['accuracy']\n",
        ")"
      ],
      "metadata": {
        "colab": {
          "base_uri": "https://localhost:8080/"
        },
        "id": "qLyTCKTXo8-M",
        "outputId": "fe12afff-ec53-4399-9d1b-4809f847d517"
      },
      "execution_count": 8,
      "outputs": [
        {
          "output_type": "stream",
          "name": "stderr",
          "text": [
            "WARNING:tensorflow:Layer lstm will not use cuDNN kernels since it doesn't meet the criteria. It will use a generic GPU kernel as fallback when running on GPU.\n"
          ]
        }
      ]
    },
    {
      "cell_type": "code",
      "source": [
        "model.fit(x_train, y_train, batch_size=64, epochs=10, verbose=2)\n",
        "model.evaluate(x_test, y_test, batch_size=64, verbose=2)"
      ],
      "metadata": {
        "colab": {
          "base_uri": "https://localhost:8080/"
        },
        "id": "ciE1U_zKpFkF",
        "outputId": "76f64936-39dd-4240-869e-88608f509516"
      },
      "execution_count": 9,
      "outputs": [
        {
          "output_type": "stream",
          "name": "stdout",
          "text": [
            "Epoch 1/10\n",
            "938/938 - 36s - loss: 0.3412 - accuracy: 0.8894 - 36s/epoch - 38ms/step\n",
            "Epoch 2/10\n",
            "938/938 - 32s - loss: 0.0987 - accuracy: 0.9702 - 32s/epoch - 34ms/step\n",
            "Epoch 3/10\n",
            "938/938 - 32s - loss: 0.0704 - accuracy: 0.9782 - 32s/epoch - 34ms/step\n",
            "Epoch 4/10\n",
            "938/938 - 31s - loss: 0.0540 - accuracy: 0.9832 - 31s/epoch - 33ms/step\n",
            "Epoch 5/10\n",
            "938/938 - 34s - loss: 0.0481 - accuracy: 0.9851 - 34s/epoch - 37ms/step\n",
            "Epoch 6/10\n",
            "938/938 - 32s - loss: 0.0385 - accuracy: 0.9881 - 32s/epoch - 34ms/step\n",
            "Epoch 7/10\n",
            "938/938 - 31s - loss: 0.0347 - accuracy: 0.9890 - 31s/epoch - 33ms/step\n",
            "Epoch 8/10\n",
            "938/938 - 31s - loss: 0.0299 - accuracy: 0.9909 - 31s/epoch - 33ms/step\n",
            "Epoch 9/10\n",
            "938/938 - 32s - loss: 0.0264 - accuracy: 0.9914 - 32s/epoch - 35ms/step\n",
            "Epoch 10/10\n",
            "938/938 - 31s - loss: 0.0238 - accuracy: 0.9924 - 31s/epoch - 33ms/step\n",
            "157/157 - 1s - loss: 0.0359 - accuracy: 0.9886 - 1s/epoch - 9ms/step\n"
          ]
        },
        {
          "output_type": "execute_result",
          "data": {
            "text/plain": [
              "[0.035880155861377716, 0.9886000156402588]"
            ]
          },
          "metadata": {},
          "execution_count": 9
        }
      ]
    },
    {
      "cell_type": "code",
      "source": [
        "#create bidirectional LSTM model\n",
        "\n",
        "model = keras.Sequential(\n",
        "    [\n",
        "        keras.Input(shape=(None, 28)),\n",
        "        layers.Bidirectional(\n",
        "            layers.LSTM(128, return_sequences=True, activation='relu')\n",
        "        ),\n",
        "        # layers.SimpleRNN(128, return_sequences=True, activation='relu'),\n",
        "        layers.Bidirectional(\n",
        "            layers.LSTM(128)\n",
        "        ),\n",
        "        layers.Dense(10)\n",
        "    ]\n",
        ")\n",
        "\n",
        "model.compile(\n",
        "    loss=keras.losses.SparseCategoricalCrossentropy(from_logits=True),\n",
        "    optimizer=keras.optimizers.Adam(1e-3),\n",
        "    metrics=['accuracy']\n",
        ")"
      ],
      "metadata": {
        "colab": {
          "base_uri": "https://localhost:8080/"
        },
        "id": "zFt8TlgsrPG0",
        "outputId": "038acc68-2aa7-45f8-a030-76ad6d50ddee"
      },
      "execution_count": 15,
      "outputs": [
        {
          "output_type": "stream",
          "name": "stderr",
          "text": [
            "WARNING:tensorflow:Layer lstm_4 will not use cuDNN kernels since it doesn't meet the criteria. It will use a generic GPU kernel as fallback when running on GPU.\n",
            "WARNING:tensorflow:Layer lstm_4 will not use cuDNN kernels since it doesn't meet the criteria. It will use a generic GPU kernel as fallback when running on GPU.\n",
            "WARNING:tensorflow:Layer lstm_4 will not use cuDNN kernels since it doesn't meet the criteria. It will use a generic GPU kernel as fallback when running on GPU.\n"
          ]
        }
      ]
    },
    {
      "cell_type": "code",
      "source": [
        "model.fit(x_train, y_train, batch_size=64, epochs=10, verbose=2)\n",
        "model.evaluate(x_test, y_test, batch_size=64, verbose=2)"
      ],
      "metadata": {
        "colab": {
          "base_uri": "https://localhost:8080/"
        },
        "id": "CQObVp38rlLL",
        "outputId": "9e824a74-a0eb-4ac2-a086-af902689edee"
      },
      "execution_count": 16,
      "outputs": [
        {
          "output_type": "stream",
          "name": "stdout",
          "text": [
            "Epoch 1/10\n",
            "938/938 - 66s - loss: 0.2989 - accuracy: 0.9030 - 66s/epoch - 70ms/step\n",
            "Epoch 2/10\n",
            "938/938 - 60s - loss: 0.0871 - accuracy: 0.9732 - 60s/epoch - 64ms/step\n",
            "Epoch 3/10\n",
            "938/938 - 59s - loss: 0.0617 - accuracy: 0.9805 - 59s/epoch - 63ms/step\n",
            "Epoch 4/10\n",
            "938/938 - 58s - loss: 0.0478 - accuracy: 0.9846 - 58s/epoch - 62ms/step\n",
            "Epoch 5/10\n",
            "938/938 - 61s - loss: 0.0397 - accuracy: 0.9876 - 61s/epoch - 65ms/step\n",
            "Epoch 6/10\n",
            "938/938 - 58s - loss: 0.0366 - accuracy: 0.9887 - 58s/epoch - 62ms/step\n",
            "Epoch 7/10\n",
            "938/938 - 57s - loss: 0.0306 - accuracy: 0.9899 - 57s/epoch - 61ms/step\n",
            "Epoch 8/10\n",
            "938/938 - 61s - loss: 0.0252 - accuracy: 0.9919 - 61s/epoch - 65ms/step\n",
            "Epoch 9/10\n",
            "938/938 - 60s - loss: 0.0241 - accuracy: 0.9922 - 60s/epoch - 64ms/step\n",
            "Epoch 10/10\n",
            "938/938 - 58s - loss: 0.0206 - accuracy: 0.9934 - 58s/epoch - 61ms/step\n",
            "157/157 - 3s - loss: 0.0410 - accuracy: 0.9878 - 3s/epoch - 16ms/step\n"
          ]
        },
        {
          "output_type": "execute_result",
          "data": {
            "text/plain": [
              "[0.04099763557314873, 0.9878000020980835]"
            ]
          },
          "metadata": {},
          "execution_count": 16
        }
      ]
    }
  ]
}