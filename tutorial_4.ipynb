{
  "nbformat": 4,
  "nbformat_minor": 0,
  "metadata": {
    "colab": {
      "provenance": [],
      "gpuType": "T4",
      "mount_file_id": "17uQggItqvmt5FlAY7nYv7H0C-oWrrWIm",
      "authorship_tag": "ABX9TyMtNv+nF/Uzo1FAtnPoNS2Q",
      "include_colab_link": true
    },
    "kernelspec": {
      "name": "python3",
      "display_name": "Python 3"
    },
    "language_info": {
      "name": "python"
    },
    "accelerator": "GPU"
  },
  "cells": [
    {
      "cell_type": "markdown",
      "metadata": {
        "id": "view-in-github",
        "colab_type": "text"
      },
      "source": [
        "<a href=\"https://colab.research.google.com/github/akhileshpanigrahi/tensorflow_tutorial/blob/main/tutorial_4.ipynb\" target=\"_parent\"><img src=\"https://colab.research.google.com/assets/colab-badge.svg\" alt=\"Open In Colab\"/></a>"
      ]
    },
    {
      "cell_type": "code",
      "execution_count": null,
      "metadata": {
        "id": "eZhhND5iJQkW"
      },
      "outputs": [],
      "source": [
        "import tensorflow as tf\n",
        "from tensorflow import keras\n",
        "from tensorflow.keras import layers, regularizers\n",
        "from tensorflow.keras.datasets import cifar10\n",
        "from tensorflow.keras.datasets import mnist"
      ]
    },
    {
      "cell_type": "code",
      "source": [
        "# download train and test data\n",
        "(x_train, y_train), (x_test, y_test) = cifar10.load_data()\n",
        "# (x_train, y_train), (x_test, y_test) = mnist.load_data()"
      ],
      "metadata": {
        "id": "LKJoe3_lrg6N",
        "colab": {
          "base_uri": "https://localhost:8080/"
        },
        "outputId": "b9f95062-2481-4f72-cfb5-9f57df53e480"
      },
      "execution_count": null,
      "outputs": [
        {
          "output_type": "stream",
          "name": "stdout",
          "text": [
            "Downloading data from https://www.cs.toronto.edu/~kriz/cifar-10-python.tar.gz\n",
            "170498071/170498071 [==============================] - 13s 0us/step\n"
          ]
        }
      ]
    },
    {
      "cell_type": "code",
      "source": [
        "x_train = x_train.astype('float32') / 255\n",
        "x_test = x_test.astype('float32') / 255"
      ],
      "metadata": {
        "id": "OaUJVtc4sKG_"
      },
      "execution_count": null,
      "outputs": []
    },
    {
      "cell_type": "code",
      "source": [
        "model = keras.Sequential([\n",
        "    keras.Input(shape=(32,32,3)),\n",
        "    layers.Conv2D(32, 3, padding='valid', activation='relu'),\n",
        "    layers.MaxPooling2D(),\n",
        "    layers.Conv2D(64, 3, padding='valid', activation='relu'),\n",
        "    layers.MaxPooling2D(),\n",
        "    layers.Conv2D(128, 3, padding='valid', activation='relu'),\n",
        "    layers.Flatten(),\n",
        "    layers.Dense(64, activation='relu'),\n",
        "    layers.Dense(10, activation='softmax')\n",
        "\n",
        "])\n",
        "model.compile(\n",
        "    loss = keras.losses.SparseCategoricalCrossentropy(),\n",
        "    optimizer = keras.optimizers.Adam(learning_rate=3e-4),\n",
        "    metrics = ['accuracy']\n",
        ")\n",
        "\n",
        "print(model.summary())"
      ],
      "metadata": {
        "id": "FCV8EfU0sYFa",
        "colab": {
          "base_uri": "https://localhost:8080/"
        },
        "outputId": "4e893b32-00b8-4857-fb39-8fae983c001f"
      },
      "execution_count": null,
      "outputs": [
        {
          "output_type": "stream",
          "name": "stdout",
          "text": [
            "Model: \"sequential_14\"\n",
            "_________________________________________________________________\n",
            " Layer (type)                Output Shape              Param #   \n",
            "=================================================================\n",
            " conv2d_36 (Conv2D)          (None, 26, 26, 32)        320       \n",
            "                                                                 \n",
            " max_pooling2d_26 (MaxPooli  (None, 13, 13, 32)        0         \n",
            " ng2D)                                                           \n",
            "                                                                 \n",
            " conv2d_37 (Conv2D)          (None, 11, 11, 64)        18496     \n",
            "                                                                 \n",
            " max_pooling2d_27 (MaxPooli  (None, 5, 5, 64)          0         \n",
            " ng2D)                                                           \n",
            "                                                                 \n",
            " conv2d_38 (Conv2D)          (None, 3, 3, 128)         73856     \n",
            "                                                                 \n",
            " flatten_10 (Flatten)        (None, 1152)              0         \n",
            "                                                                 \n",
            " dense_20 (Dense)            (None, 64)                73792     \n",
            "                                                                 \n",
            " dense_21 (Dense)            (None, 10)                650       \n",
            "                                                                 \n",
            "=================================================================\n",
            "Total params: 167114 (652.79 KB)\n",
            "Trainable params: 167114 (652.79 KB)\n",
            "Non-trainable params: 0 (0.00 Byte)\n",
            "_________________________________________________________________\n",
            "None\n"
          ]
        }
      ]
    },
    {
      "cell_type": "code",
      "source": [
        "\n",
        "#train the model\n",
        "model.fit(x_train, y_train, batch_size=64, epochs=10, verbose=2)\n",
        "model.evaluate(x_test, y_test, verbose=2, batch_size=64)"
      ],
      "metadata": {
        "colab": {
          "base_uri": "https://localhost:8080/"
        },
        "collapsed": true,
        "id": "sAy0wZczR7kV",
        "outputId": "3b2cc06c-ff59-4608-bef3-d4bb995872a9"
      },
      "execution_count": null,
      "outputs": [
        {
          "output_type": "stream",
          "name": "stdout",
          "text": [
            "Epoch 1/10\n",
            "938/938 - 5s - loss: 0.2714 - accuracy: 0.9221 - 5s/epoch - 5ms/step\n",
            "Epoch 2/10\n",
            "938/938 - 3s - loss: 0.0734 - accuracy: 0.9772 - 3s/epoch - 3ms/step\n",
            "Epoch 3/10\n",
            "938/938 - 4s - loss: 0.0496 - accuracy: 0.9844 - 4s/epoch - 4ms/step\n",
            "Epoch 4/10\n",
            "938/938 - 3s - loss: 0.0390 - accuracy: 0.9883 - 3s/epoch - 4ms/step\n",
            "Epoch 5/10\n",
            "938/938 - 3s - loss: 0.0306 - accuracy: 0.9906 - 3s/epoch - 3ms/step\n",
            "Epoch 6/10\n",
            "938/938 - 3s - loss: 0.0270 - accuracy: 0.9913 - 3s/epoch - 3ms/step\n",
            "Epoch 7/10\n",
            "938/938 - 4s - loss: 0.0226 - accuracy: 0.9929 - 4s/epoch - 4ms/step\n",
            "Epoch 8/10\n",
            "938/938 - 3s - loss: 0.0185 - accuracy: 0.9941 - 3s/epoch - 4ms/step\n",
            "Epoch 9/10\n",
            "938/938 - 3s - loss: 0.0162 - accuracy: 0.9944 - 3s/epoch - 3ms/step\n",
            "Epoch 10/10\n",
            "938/938 - 3s - loss: 0.0131 - accuracy: 0.9958 - 3s/epoch - 3ms/step\n",
            "157/157 - 1s - loss: 0.0297 - accuracy: 0.9916 - 539ms/epoch - 3ms/step\n"
          ]
        },
        {
          "output_type": "execute_result",
          "data": {
            "text/plain": [
              "[0.02968584932386875, 0.991599977016449]"
            ]
          },
          "metadata": {},
          "execution_count": 32
        }
      ]
    },
    {
      "cell_type": "code",
      "source": [
        "#using function api\n",
        "def my_model():\n",
        "  inputs = keras.Input(shape=(32,32,3))\n",
        "  x = layers.Conv2D(32,3, padding = 'same', kernel_regularizer=regularizers.L2(0.01))(inputs)\n",
        "  x = layers.BatchNormalization()(x)\n",
        "  x = layers.Activation('relu')(x)\n",
        "  x = layers.MaxPooling2D()(x)\n",
        "  x = layers.Dropout(0.2)(x)\n",
        "  x = layers.Conv2D(64,5, padding='same', kernel_regularizer=regularizers.L2(0.01))(x)\n",
        "  x = layers.BatchNormalization()(x)\n",
        "  x = layers.Activation('relu')(x)\n",
        "  x = layers.MaxPooling2D()(x)\n",
        "  x = layers.Dropout(0.2)(x)\n",
        "  x = layers.Conv2D(128,3, padding='same', kernel_regularizer=regularizers.L2(0.01))(x)\n",
        "  x = layers.BatchNormalization()(x)\n",
        "  x = layers.Activation('relu')(x)\n",
        "  x = layers.Dropout(0.2)(x)\n",
        "  x = layers.Conv2D(128,3, padding = 'same', kernel_regularizer=regularizers.L2(0.01))(inputs)\n",
        "  x = layers.BatchNormalization()(x)\n",
        "  x = layers.Activation('relu')(x)\n",
        "  x = layers.Dropout(0.2)(x)\n",
        "  x = layers.Flatten()(x)\n",
        "  x = layers.Dense(64, kernel_regularizer=regularizers.L2(0.01))(x)\n",
        "  x = layers.Dropout(0.5)(x)\n",
        "  outputs = layers.Dense(10)(x)\n",
        "  model = keras.Model(inputs, outputs)\n",
        "  return model\n",
        "\n",
        "model = my_model()\n",
        "model.compile(\n",
        "    loss = keras.losses.SparseCategoricalCrossentropy(from_logits=True),\n",
        "    optimizer = keras.optimizers.Adam(learning_rate=3e-4),\n",
        "    metrics = ['accuracy']\n",
        ")"
      ],
      "metadata": {
        "id": "YCX51CeWS09C"
      },
      "execution_count": null,
      "outputs": []
    },
    {
      "cell_type": "code",
      "source": [
        "model.fit(x_train, y_train, batch_size=64, epochs=60, verbose=2)\n",
        "model.evaluate(x_test, y_test, verbose=2, batch_size=64)"
      ],
      "metadata": {
        "colab": {
          "base_uri": "https://localhost:8080/"
        },
        "id": "N7RpmXmMVspS",
        "outputId": "ed823716-74ec-47f0-f98d-45c85b12236b"
      },
      "execution_count": 13,
      "outputs": [
        {
          "output_type": "stream",
          "name": "stdout",
          "text": [
            "Epoch 1/60\n",
            "782/782 - 9s - loss: 1.1681 - accuracy: 0.6977 - 9s/epoch - 12ms/step\n",
            "Epoch 2/60\n",
            "782/782 - 9s - loss: 1.1653 - accuracy: 0.6978 - 9s/epoch - 12ms/step\n",
            "Epoch 3/60\n",
            "782/782 - 9s - loss: 1.1591 - accuracy: 0.7002 - 9s/epoch - 12ms/step\n",
            "Epoch 4/60\n",
            "782/782 - 9s - loss: 1.1475 - accuracy: 0.7043 - 9s/epoch - 12ms/step\n",
            "Epoch 5/60\n",
            "782/782 - 9s - loss: 1.1438 - accuracy: 0.7042 - 9s/epoch - 12ms/step\n",
            "Epoch 6/60\n",
            "782/782 - 9s - loss: 1.1435 - accuracy: 0.7056 - 9s/epoch - 12ms/step\n",
            "Epoch 7/60\n",
            "782/782 - 9s - loss: 1.1301 - accuracy: 0.7090 - 9s/epoch - 12ms/step\n",
            "Epoch 8/60\n",
            "782/782 - 9s - loss: 1.1313 - accuracy: 0.7099 - 9s/epoch - 12ms/step\n",
            "Epoch 9/60\n",
            "782/782 - 9s - loss: 1.1194 - accuracy: 0.7140 - 9s/epoch - 12ms/step\n",
            "Epoch 10/60\n",
            "782/782 - 9s - loss: 1.1178 - accuracy: 0.7150 - 9s/epoch - 12ms/step\n",
            "Epoch 11/60\n",
            "782/782 - 9s - loss: 1.1150 - accuracy: 0.7133 - 9s/epoch - 12ms/step\n",
            "Epoch 12/60\n",
            "782/782 - 9s - loss: 1.1067 - accuracy: 0.7179 - 9s/epoch - 12ms/step\n",
            "Epoch 13/60\n",
            "782/782 - 9s - loss: 1.0955 - accuracy: 0.7217 - 9s/epoch - 12ms/step\n",
            "Epoch 14/60\n",
            "782/782 - 10s - loss: 1.0965 - accuracy: 0.7177 - 10s/epoch - 13ms/step\n",
            "Epoch 15/60\n",
            "782/782 - 9s - loss: 1.0899 - accuracy: 0.7224 - 9s/epoch - 12ms/step\n",
            "Epoch 16/60\n",
            "782/782 - 9s - loss: 1.0843 - accuracy: 0.7243 - 9s/epoch - 12ms/step\n",
            "Epoch 17/60\n",
            "782/782 - 9s - loss: 1.0843 - accuracy: 0.7237 - 9s/epoch - 12ms/step\n",
            "Epoch 18/60\n",
            "782/782 - 9s - loss: 1.0786 - accuracy: 0.7258 - 9s/epoch - 12ms/step\n",
            "Epoch 19/60\n",
            "782/782 - 9s - loss: 1.0730 - accuracy: 0.7279 - 9s/epoch - 12ms/step\n",
            "Epoch 20/60\n",
            "782/782 - 9s - loss: 1.0711 - accuracy: 0.7292 - 9s/epoch - 12ms/step\n",
            "Epoch 21/60\n",
            "782/782 - 9s - loss: 1.0638 - accuracy: 0.7304 - 9s/epoch - 12ms/step\n",
            "Epoch 22/60\n",
            "782/782 - 9s - loss: 1.0615 - accuracy: 0.7337 - 9s/epoch - 12ms/step\n",
            "Epoch 23/60\n",
            "782/782 - 9s - loss: 1.0604 - accuracy: 0.7331 - 9s/epoch - 12ms/step\n",
            "Epoch 24/60\n",
            "782/782 - 9s - loss: 1.0569 - accuracy: 0.7316 - 9s/epoch - 12ms/step\n",
            "Epoch 25/60\n",
            "782/782 - 9s - loss: 1.0540 - accuracy: 0.7353 - 9s/epoch - 12ms/step\n",
            "Epoch 26/60\n",
            "782/782 - 9s - loss: 1.0530 - accuracy: 0.7367 - 9s/epoch - 12ms/step\n",
            "Epoch 27/60\n",
            "782/782 - 9s - loss: 1.0448 - accuracy: 0.7376 - 9s/epoch - 12ms/step\n",
            "Epoch 28/60\n",
            "782/782 - 9s - loss: 1.0466 - accuracy: 0.7409 - 9s/epoch - 12ms/step\n",
            "Epoch 29/60\n",
            "782/782 - 9s - loss: 1.0461 - accuracy: 0.7382 - 9s/epoch - 12ms/step\n",
            "Epoch 30/60\n",
            "782/782 - 9s - loss: 1.0414 - accuracy: 0.7427 - 9s/epoch - 12ms/step\n",
            "Epoch 31/60\n",
            "782/782 - 9s - loss: 1.0396 - accuracy: 0.7417 - 9s/epoch - 12ms/step\n",
            "Epoch 32/60\n",
            "782/782 - 9s - loss: 1.0346 - accuracy: 0.7446 - 9s/epoch - 12ms/step\n",
            "Epoch 33/60\n",
            "782/782 - 9s - loss: 1.0372 - accuracy: 0.7443 - 9s/epoch - 12ms/step\n",
            "Epoch 34/60\n",
            "782/782 - 9s - loss: 1.0295 - accuracy: 0.7453 - 9s/epoch - 12ms/step\n",
            "Epoch 35/60\n",
            "782/782 - 9s - loss: 1.0339 - accuracy: 0.7452 - 9s/epoch - 12ms/step\n",
            "Epoch 36/60\n",
            "782/782 - 9s - loss: 1.0330 - accuracy: 0.7446 - 9s/epoch - 12ms/step\n",
            "Epoch 37/60\n",
            "782/782 - 10s - loss: 1.0280 - accuracy: 0.7459 - 10s/epoch - 12ms/step\n",
            "Epoch 38/60\n",
            "782/782 - 10s - loss: 1.0289 - accuracy: 0.7466 - 10s/epoch - 12ms/step\n",
            "Epoch 39/60\n",
            "782/782 - 9s - loss: 1.0235 - accuracy: 0.7470 - 9s/epoch - 12ms/step\n",
            "Epoch 40/60\n",
            "782/782 - 9s - loss: 1.0198 - accuracy: 0.7487 - 9s/epoch - 12ms/step\n",
            "Epoch 41/60\n",
            "782/782 - 9s - loss: 1.0180 - accuracy: 0.7507 - 9s/epoch - 12ms/step\n",
            "Epoch 42/60\n",
            "782/782 - 9s - loss: 1.0193 - accuracy: 0.7497 - 9s/epoch - 12ms/step\n",
            "Epoch 43/60\n",
            "782/782 - 9s - loss: 1.0226 - accuracy: 0.7482 - 9s/epoch - 12ms/step\n",
            "Epoch 44/60\n",
            "782/782 - 9s - loss: 1.0201 - accuracy: 0.7503 - 9s/epoch - 12ms/step\n",
            "Epoch 45/60\n",
            "782/782 - 9s - loss: 1.0206 - accuracy: 0.7523 - 9s/epoch - 12ms/step\n",
            "Epoch 46/60\n",
            "782/782 - 9s - loss: 1.0217 - accuracy: 0.7488 - 9s/epoch - 12ms/step\n",
            "Epoch 47/60\n",
            "782/782 - 9s - loss: 1.0144 - accuracy: 0.7532 - 9s/epoch - 12ms/step\n",
            "Epoch 48/60\n",
            "782/782 - 9s - loss: 1.0186 - accuracy: 0.7514 - 9s/epoch - 12ms/step\n",
            "Epoch 49/60\n",
            "782/782 - 9s - loss: 1.0120 - accuracy: 0.7532 - 9s/epoch - 12ms/step\n",
            "Epoch 50/60\n",
            "782/782 - 9s - loss: 1.0139 - accuracy: 0.7551 - 9s/epoch - 12ms/step\n",
            "Epoch 51/60\n",
            "782/782 - 9s - loss: 1.0077 - accuracy: 0.7568 - 9s/epoch - 12ms/step\n",
            "Epoch 52/60\n",
            "782/782 - 9s - loss: 1.0124 - accuracy: 0.7563 - 9s/epoch - 12ms/step\n",
            "Epoch 53/60\n",
            "782/782 - 9s - loss: 1.0125 - accuracy: 0.7544 - 9s/epoch - 12ms/step\n",
            "Epoch 54/60\n",
            "782/782 - 9s - loss: 1.0118 - accuracy: 0.7532 - 9s/epoch - 12ms/step\n",
            "Epoch 55/60\n",
            "782/782 - 9s - loss: 1.0088 - accuracy: 0.7604 - 9s/epoch - 12ms/step\n",
            "Epoch 56/60\n",
            "782/782 - 9s - loss: 1.0068 - accuracy: 0.7581 - 9s/epoch - 12ms/step\n",
            "Epoch 57/60\n",
            "782/782 - 9s - loss: 1.0100 - accuracy: 0.7543 - 9s/epoch - 12ms/step\n",
            "Epoch 58/60\n",
            "782/782 - 9s - loss: 1.0127 - accuracy: 0.7584 - 9s/epoch - 12ms/step\n",
            "Epoch 59/60\n",
            "782/782 - 9s - loss: 1.0089 - accuracy: 0.7585 - 9s/epoch - 12ms/step\n",
            "Epoch 60/60\n",
            "782/782 - 9s - loss: 1.0043 - accuracy: 0.7592 - 9s/epoch - 12ms/step\n",
            "157/157 - 1s - loss: 1.5278 - accuracy: 0.6106 - 531ms/epoch - 3ms/step\n"
          ]
        },
        {
          "output_type": "execute_result",
          "data": {
            "text/plain": [
              "[1.5277925729751587, 0.6105999946594238]"
            ]
          },
          "metadata": {},
          "execution_count": 13
        }
      ]
    }
  ]
}