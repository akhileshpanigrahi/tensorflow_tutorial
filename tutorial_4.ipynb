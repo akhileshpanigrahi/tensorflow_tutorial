{
  "nbformat": 4,
  "nbformat_minor": 0,
  "metadata": {
    "colab": {
      "provenance": [],
      "gpuType": "T4",
      "mount_file_id": "17uQggItqvmt5FlAY7nYv7H0C-oWrrWIm",
      "authorship_tag": "ABX9TyPVyXXNlG79ej5ufooVdfvM",
      "include_colab_link": true
    },
    "kernelspec": {
      "name": "python3",
      "display_name": "Python 3"
    },
    "language_info": {
      "name": "python"
    },
    "accelerator": "GPU"
  },
  "cells": [
    {
      "cell_type": "markdown",
      "metadata": {
        "id": "view-in-github",
        "colab_type": "text"
      },
      "source": [
        "<a href=\"https://colab.research.google.com/github/akhileshpanigrahi/tensorflow_tutorial/blob/main/tutorial_4.ipynb\" target=\"_parent\"><img src=\"https://colab.research.google.com/assets/colab-badge.svg\" alt=\"Open In Colab\"/></a>"
      ]
    },
    {
      "cell_type": "code",
      "execution_count": 25,
      "metadata": {
        "id": "eZhhND5iJQkW"
      },
      "outputs": [],
      "source": [
        "import tensorflow as tf\n",
        "from tensorflow import keras\n",
        "from tensorflow.keras import layers\n",
        "from tensorflow.keras.datasets import cifar10\n",
        "from tensorflow.keras.datasets import mnist"
      ]
    },
    {
      "cell_type": "code",
      "source": [
        "# download train and test data\n",
        "(x_train, y_train), (x_test, y_test) = cifar10.load_data()\n",
        "# (x_train, y_train), (x_test, y_test) = mnist.load_data()"
      ],
      "metadata": {
        "id": "LKJoe3_lrg6N"
      },
      "execution_count": 35,
      "outputs": []
    },
    {
      "cell_type": "code",
      "source": [
        "x_train = x_train.astype('float32') / 255\n",
        "x_test = x_test.astype('float32') / 255"
      ],
      "metadata": {
        "id": "OaUJVtc4sKG_"
      },
      "execution_count": 27,
      "outputs": []
    },
    {
      "cell_type": "code",
      "source": [
        "model = keras.Sequential([\n",
        "    keras.Input(shape=(32,32,3)),\n",
        "    layers.Conv2D(32, 3, padding='valid', activation='relu'),\n",
        "    layers.MaxPooling2D(),\n",
        "    layers.Conv2D(64, 3, padding='valid', activation='relu'),\n",
        "    layers.MaxPooling2D(),\n",
        "    layers.Conv2D(128, 3, padding='valid', activation='relu'),\n",
        "    layers.Flatten(),\n",
        "    layers.Dense(64, activation='relu'),\n",
        "    layers.Dense(10, activation='softmax')\n",
        "\n",
        "])\n",
        "model.compile(\n",
        "    loss = keras.losses.SparseCategoricalCrossentropy(),\n",
        "    optimizer = keras.optimizers.Adam(learning_rate=3e-4),\n",
        "    metrics = ['accuracy']\n",
        ")\n",
        "\n",
        "print(model.summary())"
      ],
      "metadata": {
        "id": "FCV8EfU0sYFa",
        "colab": {
          "base_uri": "https://localhost:8080/"
        },
        "outputId": "4e893b32-00b8-4857-fb39-8fae983c001f"
      },
      "execution_count": 31,
      "outputs": [
        {
          "output_type": "stream",
          "name": "stdout",
          "text": [
            "Model: \"sequential_14\"\n",
            "_________________________________________________________________\n",
            " Layer (type)                Output Shape              Param #   \n",
            "=================================================================\n",
            " conv2d_36 (Conv2D)          (None, 26, 26, 32)        320       \n",
            "                                                                 \n",
            " max_pooling2d_26 (MaxPooli  (None, 13, 13, 32)        0         \n",
            " ng2D)                                                           \n",
            "                                                                 \n",
            " conv2d_37 (Conv2D)          (None, 11, 11, 64)        18496     \n",
            "                                                                 \n",
            " max_pooling2d_27 (MaxPooli  (None, 5, 5, 64)          0         \n",
            " ng2D)                                                           \n",
            "                                                                 \n",
            " conv2d_38 (Conv2D)          (None, 3, 3, 128)         73856     \n",
            "                                                                 \n",
            " flatten_10 (Flatten)        (None, 1152)              0         \n",
            "                                                                 \n",
            " dense_20 (Dense)            (None, 64)                73792     \n",
            "                                                                 \n",
            " dense_21 (Dense)            (None, 10)                650       \n",
            "                                                                 \n",
            "=================================================================\n",
            "Total params: 167114 (652.79 KB)\n",
            "Trainable params: 167114 (652.79 KB)\n",
            "Non-trainable params: 0 (0.00 Byte)\n",
            "_________________________________________________________________\n",
            "None\n"
          ]
        }
      ]
    },
    {
      "cell_type": "code",
      "source": [
        "\n",
        "#train the model\n",
        "model.fit(x_train, y_train, batch_size=64, epochs=10, verbose=2)\n",
        "model.evaluate(x_test, y_test, verbose=2, batch_size=64)"
      ],
      "metadata": {
        "colab": {
          "base_uri": "https://localhost:8080/"
        },
        "collapsed": true,
        "id": "sAy0wZczR7kV",
        "outputId": "3b2cc06c-ff59-4608-bef3-d4bb995872a9"
      },
      "execution_count": 32,
      "outputs": [
        {
          "output_type": "stream",
          "name": "stdout",
          "text": [
            "Epoch 1/10\n",
            "938/938 - 5s - loss: 0.2714 - accuracy: 0.9221 - 5s/epoch - 5ms/step\n",
            "Epoch 2/10\n",
            "938/938 - 3s - loss: 0.0734 - accuracy: 0.9772 - 3s/epoch - 3ms/step\n",
            "Epoch 3/10\n",
            "938/938 - 4s - loss: 0.0496 - accuracy: 0.9844 - 4s/epoch - 4ms/step\n",
            "Epoch 4/10\n",
            "938/938 - 3s - loss: 0.0390 - accuracy: 0.9883 - 3s/epoch - 4ms/step\n",
            "Epoch 5/10\n",
            "938/938 - 3s - loss: 0.0306 - accuracy: 0.9906 - 3s/epoch - 3ms/step\n",
            "Epoch 6/10\n",
            "938/938 - 3s - loss: 0.0270 - accuracy: 0.9913 - 3s/epoch - 3ms/step\n",
            "Epoch 7/10\n",
            "938/938 - 4s - loss: 0.0226 - accuracy: 0.9929 - 4s/epoch - 4ms/step\n",
            "Epoch 8/10\n",
            "938/938 - 3s - loss: 0.0185 - accuracy: 0.9941 - 3s/epoch - 4ms/step\n",
            "Epoch 9/10\n",
            "938/938 - 3s - loss: 0.0162 - accuracy: 0.9944 - 3s/epoch - 3ms/step\n",
            "Epoch 10/10\n",
            "938/938 - 3s - loss: 0.0131 - accuracy: 0.9958 - 3s/epoch - 3ms/step\n",
            "157/157 - 1s - loss: 0.0297 - accuracy: 0.9916 - 539ms/epoch - 3ms/step\n"
          ]
        },
        {
          "output_type": "execute_result",
          "data": {
            "text/plain": [
              "[0.02968584932386875, 0.991599977016449]"
            ]
          },
          "metadata": {},
          "execution_count": 32
        }
      ]
    },
    {
      "cell_type": "code",
      "source": [
        "#using function api\n",
        "def my_model():\n",
        "  inputs = keras.Input(shape=(32,32,3))\n",
        "  x = layers.Conv2D(32,3)(inputs)\n",
        "  x = layers.BatchNormalization()(x)\n",
        "  x = layers.Activation('relu')(x)\n",
        "  x = layers.MaxPooling2D()(x)\n",
        "  x = layers.Dropout(0.2)(x)\n",
        "  x = layers.Conv2D(64,5, padding='same')(x)\n",
        "  x = layers.BatchNormalization()(x)\n",
        "  x = layers.Activation('relu')(x)\n",
        "  x = layers.MaxPooling2D()(x)\n",
        "  x = layers.Dropout(0.2)(x)\n",
        "  x = layers.Conv2D(128,3)(x)\n",
        "  x = layers.BatchNormalization()(x)\n",
        "  x = layers.Activation('relu')(x)\n",
        "  x = layers.Dropout(0.2)(x)\n",
        "  x = layers.Flatten()(x)\n",
        "  x = layers.Dense(64)(x)\n",
        "  outputs = layers.Dense(10)(x)\n",
        "  model = keras.Model(inputs, outputs)\n",
        "  return model\n",
        "\n",
        "model = my_model()\n",
        "model.compile(\n",
        "    loss = keras.losses.SparseCategoricalCrossentropy(from_logits=True),\n",
        "    optimizer = keras.optimizers.Adam(learning_rate=3e-4),\n",
        "    metrics = ['accuracy']\n",
        ")"
      ],
      "metadata": {
        "id": "YCX51CeWS09C"
      },
      "execution_count": 36,
      "outputs": []
    },
    {
      "cell_type": "code",
      "source": [
        "model.fit(x_train, y_train, batch_size=64, epochs=20, verbose=2)\n",
        "model.evaluate(x_test, y_test, verbose=2, batch_size=64)"
      ],
      "metadata": {
        "colab": {
          "base_uri": "https://localhost:8080/"
        },
        "id": "N7RpmXmMVspS",
        "outputId": "baa325ad-6de1-4dd1-e314-86a74b00f770"
      },
      "execution_count": 38,
      "outputs": [
        {
          "output_type": "stream",
          "name": "stdout",
          "text": [
            "Epoch 1/20\n",
            "782/782 - 5s - loss: 0.6407 - accuracy: 0.7748 - 5s/epoch - 6ms/step\n",
            "Epoch 2/20\n",
            "782/782 - 5s - loss: 0.6163 - accuracy: 0.7843 - 5s/epoch - 6ms/step\n",
            "Epoch 3/20\n",
            "782/782 - 5s - loss: 0.6013 - accuracy: 0.7904 - 5s/epoch - 6ms/step\n",
            "Epoch 4/20\n",
            "782/782 - 4s - loss: 0.5756 - accuracy: 0.7985 - 4s/epoch - 6ms/step\n",
            "Epoch 5/20\n",
            "782/782 - 5s - loss: 0.5635 - accuracy: 0.8003 - 5s/epoch - 6ms/step\n",
            "Epoch 6/20\n",
            "782/782 - 5s - loss: 0.5535 - accuracy: 0.8068 - 5s/epoch - 6ms/step\n",
            "Epoch 7/20\n",
            "782/782 - 5s - loss: 0.5351 - accuracy: 0.8120 - 5s/epoch - 6ms/step\n",
            "Epoch 8/20\n",
            "782/782 - 5s - loss: 0.5224 - accuracy: 0.8158 - 5s/epoch - 6ms/step\n",
            "Epoch 9/20\n",
            "782/782 - 5s - loss: 0.5069 - accuracy: 0.8224 - 5s/epoch - 6ms/step\n",
            "Epoch 10/20\n",
            "782/782 - 4s - loss: 0.4956 - accuracy: 0.8236 - 4s/epoch - 6ms/step\n",
            "Epoch 11/20\n",
            "782/782 - 5s - loss: 0.4872 - accuracy: 0.8278 - 5s/epoch - 6ms/step\n",
            "Epoch 12/20\n",
            "782/782 - 5s - loss: 0.4764 - accuracy: 0.8307 - 5s/epoch - 6ms/step\n",
            "Epoch 13/20\n",
            "782/782 - 4s - loss: 0.4604 - accuracy: 0.8356 - 4s/epoch - 6ms/step\n",
            "Epoch 14/20\n",
            "782/782 - 5s - loss: 0.4524 - accuracy: 0.8417 - 5s/epoch - 6ms/step\n",
            "Epoch 15/20\n",
            "782/782 - 5s - loss: 0.4447 - accuracy: 0.8430 - 5s/epoch - 6ms/step\n",
            "Epoch 16/20\n",
            "782/782 - 4s - loss: 0.4348 - accuracy: 0.8460 - 4s/epoch - 6ms/step\n",
            "Epoch 17/20\n",
            "782/782 - 5s - loss: 0.4286 - accuracy: 0.8484 - 5s/epoch - 6ms/step\n",
            "Epoch 18/20\n",
            "782/782 - 4s - loss: 0.4203 - accuracy: 0.8508 - 4s/epoch - 6ms/step\n",
            "Epoch 19/20\n",
            "782/782 - 4s - loss: 0.4118 - accuracy: 0.8531 - 4s/epoch - 6ms/step\n",
            "Epoch 20/20\n",
            "782/782 - 5s - loss: 0.4068 - accuracy: 0.8562 - 5s/epoch - 6ms/step\n",
            "157/157 - 1s - loss: 0.6289 - accuracy: 0.7969 - 548ms/epoch - 3ms/step\n"
          ]
        },
        {
          "output_type": "execute_result",
          "data": {
            "text/plain": [
              "[0.6289305686950684, 0.7968999743461609]"
            ]
          },
          "metadata": {},
          "execution_count": 38
        }
      ]
    }
  ]
}